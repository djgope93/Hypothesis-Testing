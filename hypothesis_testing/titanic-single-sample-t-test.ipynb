{
 "cells": [
  {
   "cell_type": "code",
   "execution_count": 1,
   "id": "ca9afbc1",
   "metadata": {},
   "outputs": [],
   "source": [
    "import pandas as pd\n",
    "import numpy as np"
   ]
  },
  {
   "cell_type": "code",
   "execution_count": 5,
   "id": "6873a84c",
   "metadata": {},
   "outputs": [],
   "source": [
    "train = pd.read_csv(\"/Users/sirdjgope93/Desktop/DATA SCIENCE/Project/titanic_dataset/1.input/train.csv\").drop(columns=['Survived'])\n",
    "test = pd.read_csv(\"/Users/sirdjgope93/Desktop/DATA SCIENCE/Project/titanic_dataset/1.input/test.csv\")"
   ]
  },
  {
   "cell_type": "code",
   "execution_count": 7,
   "id": "c0565861",
   "metadata": {},
   "outputs": [],
   "source": [
    "final_df = pd.concat([train,test]).sample(1309)"
   ]
  },
  {
   "cell_type": "code",
   "execution_count": 9,
   "id": "42f3899b",
   "metadata": {},
   "outputs": [
    {
     "data": {
      "text/html": [
       "<div>\n",
       "<style scoped>\n",
       "    .dataframe tbody tr th:only-of-type {\n",
       "        vertical-align: middle;\n",
       "    }\n",
       "\n",
       "    .dataframe tbody tr th {\n",
       "        vertical-align: top;\n",
       "    }\n",
       "\n",
       "    .dataframe thead th {\n",
       "        text-align: right;\n",
       "    }\n",
       "</style>\n",
       "<table border=\"1\" class=\"dataframe\">\n",
       "  <thead>\n",
       "    <tr style=\"text-align: right;\">\n",
       "      <th></th>\n",
       "      <th>PassengerId</th>\n",
       "      <th>Pclass</th>\n",
       "      <th>Name</th>\n",
       "      <th>Sex</th>\n",
       "      <th>Age</th>\n",
       "      <th>SibSp</th>\n",
       "      <th>Parch</th>\n",
       "      <th>Ticket</th>\n",
       "      <th>Fare</th>\n",
       "      <th>Cabin</th>\n",
       "      <th>Embarked</th>\n",
       "    </tr>\n",
       "  </thead>\n",
       "  <tbody>\n",
       "    <tr>\n",
       "      <th>350</th>\n",
       "      <td>1242</td>\n",
       "      <td>1</td>\n",
       "      <td>Greenfield, Mrs. Leo David (Blanche Strouse)</td>\n",
       "      <td>female</td>\n",
       "      <td>45.0</td>\n",
       "      <td>0</td>\n",
       "      <td>1</td>\n",
       "      <td>PC 17759</td>\n",
       "      <td>63.3583</td>\n",
       "      <td>D10 D12</td>\n",
       "      <td>C</td>\n",
       "    </tr>\n",
       "    <tr>\n",
       "      <th>437</th>\n",
       "      <td>438</td>\n",
       "      <td>2</td>\n",
       "      <td>Richards, Mrs. Sidney (Emily Hocking)</td>\n",
       "      <td>female</td>\n",
       "      <td>24.0</td>\n",
       "      <td>2</td>\n",
       "      <td>3</td>\n",
       "      <td>29106</td>\n",
       "      <td>18.7500</td>\n",
       "      <td>NaN</td>\n",
       "      <td>S</td>\n",
       "    </tr>\n",
       "    <tr>\n",
       "      <th>391</th>\n",
       "      <td>1283</td>\n",
       "      <td>1</td>\n",
       "      <td>Lines, Mrs. Ernest H (Elizabeth Lindsey James)</td>\n",
       "      <td>female</td>\n",
       "      <td>51.0</td>\n",
       "      <td>0</td>\n",
       "      <td>1</td>\n",
       "      <td>PC 17592</td>\n",
       "      <td>39.4000</td>\n",
       "      <td>D28</td>\n",
       "      <td>S</td>\n",
       "    </tr>\n",
       "    <tr>\n",
       "      <th>93</th>\n",
       "      <td>985</td>\n",
       "      <td>3</td>\n",
       "      <td>Guest, Mr. Robert</td>\n",
       "      <td>male</td>\n",
       "      <td>NaN</td>\n",
       "      <td>0</td>\n",
       "      <td>0</td>\n",
       "      <td>376563</td>\n",
       "      <td>8.0500</td>\n",
       "      <td>NaN</td>\n",
       "      <td>S</td>\n",
       "    </tr>\n",
       "    <tr>\n",
       "      <th>290</th>\n",
       "      <td>1182</td>\n",
       "      <td>1</td>\n",
       "      <td>Rheims, Mr. George Alexander Lucien</td>\n",
       "      <td>male</td>\n",
       "      <td>NaN</td>\n",
       "      <td>0</td>\n",
       "      <td>0</td>\n",
       "      <td>PC 17607</td>\n",
       "      <td>39.6000</td>\n",
       "      <td>NaN</td>\n",
       "      <td>S</td>\n",
       "    </tr>\n",
       "  </tbody>\n",
       "</table>\n",
       "</div>"
      ],
      "text/plain": [
       "     PassengerId  Pclass                                            Name  \\\n",
       "350         1242       1    Greenfield, Mrs. Leo David (Blanche Strouse)   \n",
       "437          438       2           Richards, Mrs. Sidney (Emily Hocking)   \n",
       "391         1283       1  Lines, Mrs. Ernest H (Elizabeth Lindsey James)   \n",
       "93           985       3                               Guest, Mr. Robert   \n",
       "290         1182       1             Rheims, Mr. George Alexander Lucien   \n",
       "\n",
       "        Sex   Age  SibSp  Parch    Ticket     Fare    Cabin Embarked  \n",
       "350  female  45.0      0      1  PC 17759  63.3583  D10 D12        C  \n",
       "437  female  24.0      2      3     29106  18.7500      NaN        S  \n",
       "391  female  51.0      0      1  PC 17592  39.4000      D28        S  \n",
       "93     male   NaN      0      0    376563   8.0500      NaN        S  \n",
       "290    male   NaN      0      0  PC 17607  39.6000      NaN        S  "
      ]
     },
     "execution_count": 9,
     "metadata": {},
     "output_type": "execute_result"
    }
   ],
   "source": [
    "final_df.head()"
   ]
  },
  {
   "cell_type": "code",
   "execution_count": 10,
   "id": "4ed72d44",
   "metadata": {},
   "outputs": [],
   "source": [
    "pop = final_df['Age'].dropna()"
   ]
  },
  {
   "cell_type": "code",
   "execution_count": 15,
   "id": "f62e1359",
   "metadata": {},
   "outputs": [],
   "source": [
    "sample_age = pop.sample(25).values"
   ]
  },
  {
   "cell_type": "code",
   "execution_count": 16,
   "id": "5949e991",
   "metadata": {},
   "outputs": [
    {
     "data": {
      "text/plain": [
       "array([24. , 25. , 18. , 24. , 30. , 36. , 38. ,  6. ,  8. , 22. , 58. ,\n",
       "       21. , 32.5, 22. , 19. , 36. , 45. , 21. , 34.5, 17. , 27. , 20. ,\n",
       "       26.5, 45. , 33. ])"
      ]
     },
     "execution_count": 16,
     "metadata": {},
     "output_type": "execute_result"
    }
   ],
   "source": [
    "sample_age"
   ]
  },
  {
   "cell_type": "markdown",
   "id": "50165ca8",
   "metadata": {},
   "source": [
    "### Performing Hypothesis Testing"
   ]
  },
  {
   "cell_type": "code",
   "execution_count": 17,
   "id": "9156710e",
   "metadata": {},
   "outputs": [],
   "source": [
    "# H0 -> The mean age is 35\n",
    "# H1 -> The mean is less than 35"
   ]
  },
  {
   "cell_type": "code",
   "execution_count": 18,
   "id": "2289a03c",
   "metadata": {},
   "outputs": [
    {
     "name": "stdout",
     "output_type": "stream",
     "text": [
      "ShapiroResult(statistic=0.9626993536949158, pvalue=0.47081536054611206)\n"
     ]
    }
   ],
   "source": [
    "# check for normality using Shapiro Wilk test\n",
    "from scipy.stats import shapiro\n",
    "\n",
    "shapiro_age = shapiro(sample_age)\n",
    "\n",
    "print(shapiro_age)"
   ]
  },
  {
   "cell_type": "code",
   "execution_count": 19,
   "id": "4f185b14",
   "metadata": {},
   "outputs": [],
   "source": [
    " pop_mean = 35"
   ]
  },
  {
   "cell_type": "code",
   "execution_count": 20,
   "id": "f5509d97",
   "metadata": {},
   "outputs": [
    {
     "name": "stdout",
     "output_type": "stream",
     "text": [
      "t-statistic: -3.2021493122824554\n",
      "p-value: 0.0019103761351320432\n"
     ]
    }
   ],
   "source": [
    "import scipy.stats as stats\n",
    "\n",
    "t_statistic,p_value = stats.ttest_1samp(sample_age,pop_mean)\n",
    "\n",
    "print(\"t-statistic:\",t_statistic)\n",
    "print(\"p-value:\",p_value/2)"
   ]
  },
  {
   "cell_type": "code",
   "execution_count": 21,
   "id": "e5dd86b1",
   "metadata": {},
   "outputs": [
    {
     "name": "stdout",
     "output_type": "stream",
     "text": [
      "Reject the null hypothesis.\n"
     ]
    }
   ],
   "source": [
    "alpha = 0.05\n",
    "\n",
    "if p_value < alpha:\n",
    "    print(\"Reject the null hypothesis.\")\n",
    "else:\n",
    "    print(\"fail to reject the null hypothesis\")"
   ]
  },
  {
   "cell_type": "code",
   "execution_count": 22,
   "id": "ef47118b",
   "metadata": {},
   "outputs": [
    {
     "data": {
      "text/plain": [
       "29.881137667304014"
      ]
     },
     "execution_count": 22,
     "metadata": {},
     "output_type": "execute_result"
    }
   ],
   "source": [
    "pop.mean()"
   ]
  },
  {
   "cell_type": "markdown",
   "id": "e6b8ce2c",
   "metadata": {},
   "source": [
    "##### so we can say that the population mean is less than 35."
   ]
  },
  {
   "cell_type": "code",
   "execution_count": null,
   "id": "1579ebda",
   "metadata": {},
   "outputs": [],
   "source": []
  }
 ],
 "metadata": {
  "kernelspec": {
   "display_name": "Python 3 (ipykernel)",
   "language": "python",
   "name": "python3"
  },
  "language_info": {
   "codemirror_mode": {
    "name": "ipython",
    "version": 3
   },
   "file_extension": ".py",
   "mimetype": "text/x-python",
   "name": "python",
   "nbconvert_exporter": "python",
   "pygments_lexer": "ipython3",
   "version": "3.11.5"
  }
 },
 "nbformat": 4,
 "nbformat_minor": 5
}
