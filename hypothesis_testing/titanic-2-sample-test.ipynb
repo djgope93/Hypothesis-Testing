{
 "cells": [
  {
   "cell_type": "code",
   "execution_count": 1,
   "id": "d6901434",
   "metadata": {},
   "outputs": [],
   "source": [
    "import pandas as pd\n",
    "import numpy as np"
   ]
  },
  {
   "cell_type": "code",
   "execution_count": 2,
   "id": "2999926d",
   "metadata": {},
   "outputs": [],
   "source": [
    "train = pd.read_csv(\"/Users/sirdjgope93/Desktop/DATA SCIENCE/Project/titanic_dataset/1.input/train.csv\").drop(columns=['Survived'])\n",
    "test = pd.read_csv(\"/Users/sirdjgope93/Desktop/DATA SCIENCE/Project/titanic_dataset/1.input/test.csv\")"
   ]
  },
  {
   "cell_type": "code",
   "execution_count": 3,
   "id": "952ae5c2",
   "metadata": {},
   "outputs": [],
   "source": [
    "final_df = pd.concat([train,test]).sample(1309)"
   ]
  },
  {
   "cell_type": "code",
   "execution_count": 4,
   "id": "fad40e83",
   "metadata": {},
   "outputs": [
    {
     "data": {
      "text/html": [
       "<div>\n",
       "<style scoped>\n",
       "    .dataframe tbody tr th:only-of-type {\n",
       "        vertical-align: middle;\n",
       "    }\n",
       "\n",
       "    .dataframe tbody tr th {\n",
       "        vertical-align: top;\n",
       "    }\n",
       "\n",
       "    .dataframe thead th {\n",
       "        text-align: right;\n",
       "    }\n",
       "</style>\n",
       "<table border=\"1\" class=\"dataframe\">\n",
       "  <thead>\n",
       "    <tr style=\"text-align: right;\">\n",
       "      <th></th>\n",
       "      <th>PassengerId</th>\n",
       "      <th>Pclass</th>\n",
       "      <th>Name</th>\n",
       "      <th>Sex</th>\n",
       "      <th>Age</th>\n",
       "      <th>SibSp</th>\n",
       "      <th>Parch</th>\n",
       "      <th>Ticket</th>\n",
       "      <th>Fare</th>\n",
       "      <th>Cabin</th>\n",
       "      <th>Embarked</th>\n",
       "    </tr>\n",
       "  </thead>\n",
       "  <tbody>\n",
       "    <tr>\n",
       "      <th>666</th>\n",
       "      <td>667</td>\n",
       "      <td>2</td>\n",
       "      <td>Butler, Mr. Reginald Fenton</td>\n",
       "      <td>male</td>\n",
       "      <td>25.0</td>\n",
       "      <td>0</td>\n",
       "      <td>0</td>\n",
       "      <td>234686</td>\n",
       "      <td>13.0000</td>\n",
       "      <td>NaN</td>\n",
       "      <td>S</td>\n",
       "    </tr>\n",
       "    <tr>\n",
       "      <th>465</th>\n",
       "      <td>466</td>\n",
       "      <td>3</td>\n",
       "      <td>Goncalves, Mr. Manuel Estanslas</td>\n",
       "      <td>male</td>\n",
       "      <td>38.0</td>\n",
       "      <td>0</td>\n",
       "      <td>0</td>\n",
       "      <td>SOTON/O.Q. 3101306</td>\n",
       "      <td>7.0500</td>\n",
       "      <td>NaN</td>\n",
       "      <td>S</td>\n",
       "    </tr>\n",
       "    <tr>\n",
       "      <th>707</th>\n",
       "      <td>708</td>\n",
       "      <td>1</td>\n",
       "      <td>Calderhead, Mr. Edward Pennington</td>\n",
       "      <td>male</td>\n",
       "      <td>42.0</td>\n",
       "      <td>0</td>\n",
       "      <td>0</td>\n",
       "      <td>PC 17476</td>\n",
       "      <td>26.2875</td>\n",
       "      <td>E24</td>\n",
       "      <td>S</td>\n",
       "    </tr>\n",
       "    <tr>\n",
       "      <th>468</th>\n",
       "      <td>469</td>\n",
       "      <td>3</td>\n",
       "      <td>Scanlan, Mr. James</td>\n",
       "      <td>male</td>\n",
       "      <td>NaN</td>\n",
       "      <td>0</td>\n",
       "      <td>0</td>\n",
       "      <td>36209</td>\n",
       "      <td>7.7250</td>\n",
       "      <td>NaN</td>\n",
       "      <td>Q</td>\n",
       "    </tr>\n",
       "    <tr>\n",
       "      <th>54</th>\n",
       "      <td>55</td>\n",
       "      <td>1</td>\n",
       "      <td>Ostby, Mr. Engelhart Cornelius</td>\n",
       "      <td>male</td>\n",
       "      <td>65.0</td>\n",
       "      <td>0</td>\n",
       "      <td>1</td>\n",
       "      <td>113509</td>\n",
       "      <td>61.9792</td>\n",
       "      <td>B30</td>\n",
       "      <td>C</td>\n",
       "    </tr>\n",
       "  </tbody>\n",
       "</table>\n",
       "</div>"
      ],
      "text/plain": [
       "     PassengerId  Pclass                               Name   Sex   Age  \\\n",
       "666          667       2        Butler, Mr. Reginald Fenton  male  25.0   \n",
       "465          466       3    Goncalves, Mr. Manuel Estanslas  male  38.0   \n",
       "707          708       1  Calderhead, Mr. Edward Pennington  male  42.0   \n",
       "468          469       3                 Scanlan, Mr. James  male   NaN   \n",
       "54            55       1     Ostby, Mr. Engelhart Cornelius  male  65.0   \n",
       "\n",
       "     SibSp  Parch              Ticket     Fare Cabin Embarked  \n",
       "666      0      0              234686  13.0000   NaN        S  \n",
       "465      0      0  SOTON/O.Q. 3101306   7.0500   NaN        S  \n",
       "707      0      0            PC 17476  26.2875   E24        S  \n",
       "468      0      0               36209   7.7250   NaN        Q  \n",
       "54       0      1              113509  61.9792   B30        C  "
      ]
     },
     "execution_count": 4,
     "metadata": {},
     "output_type": "execute_result"
    }
   ],
   "source": [
    "final_df.head()"
   ]
  },
  {
   "cell_type": "code",
   "execution_count": 5,
   "id": "d5f071db",
   "metadata": {},
   "outputs": [],
   "source": [
    "pop_male = final_df[final_df['Sex'] == 'male']['Age'].dropna()\n",
    "pop_female = final_df[final_df['Sex'] == 'female']['Age'].dropna()"
   ]
  },
  {
   "cell_type": "code",
   "execution_count": 6,
   "id": "6ea0e393",
   "metadata": {},
   "outputs": [
    {
     "data": {
      "text/plain": [
       "357    38.0\n",
       "280    23.0\n",
       "222    22.0\n",
       "309    45.0\n",
       "1      38.0\n",
       "       ... \n",
       "14     47.0\n",
       "852     9.0\n",
       "90     22.0\n",
       "255    29.0\n",
       "720     6.0\n",
       "Name: Age, Length: 388, dtype: float64"
      ]
     },
     "execution_count": 6,
     "metadata": {},
     "output_type": "execute_result"
    }
   ],
   "source": [
    "pop_female"
   ]
  },
  {
   "cell_type": "code",
   "execution_count": 7,
   "id": "33dfc71c",
   "metadata": {},
   "outputs": [],
   "source": [
    "sample_male = pop_male.sample(25)\n",
    "sample_female = pop_female.sample(25)\n",
    "\n",
    "alpha = 0.05"
   ]
  },
  {
   "cell_type": "markdown",
   "id": "d0cf7d6f",
   "metadata": {},
   "source": [
    "### Performing Hypothesis testing"
   ]
  },
  {
   "cell_type": "code",
   "execution_count": 8,
   "id": "b4a04ae8",
   "metadata": {},
   "outputs": [],
   "source": [
    "# H0 - Mean age of male and female are similar\n",
    "# H1 - Mean age of male is higher than female"
   ]
  },
  {
   "cell_type": "code",
   "execution_count": 11,
   "id": "290f4907",
   "metadata": {},
   "outputs": [
    {
     "name": "stdout",
     "output_type": "stream",
     "text": [
      "Shapiro-Wilk test for male: ShapiroResult(statistic=0.9405820369720459, pvalue=0.15268392860889435)\n",
      "Shapiro-Wilk test for female: ShapiroResult(statistic=0.9690912365913391, pvalue=0.6221141815185547)\n"
     ]
    }
   ],
   "source": [
    "from scipy.stats import shapiro\n",
    "\n",
    "# perform shapiro wilk test to check normality distribution\n",
    "shapiro_male = shapiro(sample_male)\n",
    "shapiro_female = shapiro(sample_female)\n",
    "\n",
    "print(\"Shapiro-Wilk test for male:\",shapiro_male)\n",
    "print(\"Shapiro-Wilk test for female:\",shapiro_female)"
   ]
  },
  {
   "cell_type": "code",
   "execution_count": 12,
   "id": "58105b57",
   "metadata": {},
   "outputs": [
    {
     "name": "stdout",
     "output_type": "stream",
     "text": [
      "LeveneResult(statistic=0.003646185010128281, pvalue=0.9521007977687256)\n"
     ]
    }
   ],
   "source": [
    "from scipy.stats import levene\n",
    "\n",
    "# perfrom levene's test to check variances of male and female are equal\n",
    "levene_test = levene(sample_male,sample_female)\n",
    "print(levene_test)"
   ]
  },
  {
   "cell_type": "code",
   "execution_count": 13,
   "id": "b811e6e4",
   "metadata": {},
   "outputs": [
    {
     "name": "stdout",
     "output_type": "stream",
     "text": [
      "t-statistic: 0.815410422069973\n",
      "p-value: 0.2094326198098278\n"
     ]
    }
   ],
   "source": [
    "import scipy.stats as stats\n",
    "\n",
    "t_statistic,p_value = stats.ttest_ind(sample_male,sample_female)\n",
    "\n",
    "print(\"t-statistic:\",t_statistic)\n",
    "print(\"p-value:\",p_value/2)"
   ]
  },
  {
   "cell_type": "code",
   "execution_count": 15,
   "id": "62abd9b6",
   "metadata": {},
   "outputs": [
    {
     "name": "stdout",
     "output_type": "stream",
     "text": [
      "Fail to reject the null hypothesis\n"
     ]
    }
   ],
   "source": [
    "alpha = 0.05\n",
    "\n",
    "if p_value < alpha:\n",
    "    print(\"Reject the null hypothesis\")\n",
    "else:\n",
    "    print(\"Fail to reject the null hypothesis\")"
   ]
  },
  {
   "cell_type": "code",
   "execution_count": null,
   "id": "22947f68",
   "metadata": {},
   "outputs": [],
   "source": []
  }
 ],
 "metadata": {
  "kernelspec": {
   "display_name": "Python 3 (ipykernel)",
   "language": "python",
   "name": "python3"
  },
  "language_info": {
   "codemirror_mode": {
    "name": "ipython",
    "version": 3
   },
   "file_extension": ".py",
   "mimetype": "text/x-python",
   "name": "python",
   "nbconvert_exporter": "python",
   "pygments_lexer": "ipython3",
   "version": "3.11.5"
  }
 },
 "nbformat": 4,
 "nbformat_minor": 5
}
