{
 "cells": [
  {
   "cell_type": "markdown",
   "id": "b38dcbd2",
   "metadata": {},
   "source": [
    "### Using hypothesis testing please confirm if US inflation increased after the Ukraine war or not. For Ref:\n",
    "\n",
    "given data:\n",
    "\n",
    "CPI monthly inflation before ukraine war : [6.22, 6.81, 7.04, 7.48, 7.87]\n",
    "\n",
    "CPI monthly inflation after ukraine war : [8.54, 8.26, 8.58, 9.06]"
   ]
  },
  {
   "cell_type": "code",
   "execution_count": 13,
   "id": "3a031484",
   "metadata": {},
   "outputs": [],
   "source": [
    "import numpy as np\n",
    "import scipy.stats as stats\n",
    "from scipy.stats import shapiro,t\n",
    "\n",
    "before = np.array([6.22, 6.81, 7.04, 7.48, 7.87])\n",
    "after = np.array([8.54, 8.26, 8.58, 9.06])"
   ]
  },
  {
   "cell_type": "code",
   "execution_count": 19,
   "id": "d9ab5179",
   "metadata": {},
   "outputs": [],
   "source": [
    "# H0 -> mean inflation rate of US is same before and after ukraine war\n",
    "# H1 -> mean inflation rate of us is increased after ukraine war"
   ]
  },
  {
   "cell_type": "code",
   "execution_count": 20,
   "id": "90d92737",
   "metadata": {},
   "outputs": [
    {
     "name": "stdout",
     "output_type": "stream",
     "text": [
      "Shapiro-Wilk test for before: ShapiroResult(statistic=0.990842342376709, pvalue=0.9825598001480103)\n",
      "Shapiro-Wilk test for after: ShapiroResult(statistic=0.9360736012458801, pvalue=0.6305359601974487)\n"
     ]
    }
   ],
   "source": [
    "# perform Shapiro-Wilk test for normality distribution\n",
    "\n",
    "shapiro_before = shapiro(before)\n",
    "shapiro_after = shapiro(after)\n",
    "\n",
    "print(\"Shapiro-Wilk test for before:\",shapiro_before)\n",
    "print(\"Shapiro-Wilk test for after:\",shapiro_after)"
   ]
  },
  {
   "cell_type": "code",
   "execution_count": 23,
   "id": "40fd5f96",
   "metadata": {},
   "outputs": [
    {
     "name": "stdout",
     "output_type": "stream",
     "text": [
      "LeveneResult(statistic=1.4425087998364576, pvalue=0.26879147499989375)\n"
     ]
    }
   ],
   "source": [
    "# perform levene test for equal variance\n",
    "\n",
    "from scipy.stats import levene\n",
    "\n",
    "levene_test = levene(before,after)\n",
    "print(levene_test)"
   ]
  },
  {
   "cell_type": "code",
   "execution_count": 24,
   "id": "36e3bba5",
   "metadata": {},
   "outputs": [
    {
     "name": "stdout",
     "output_type": "stream",
     "text": [
      "t-statistic: -4.3335138477536965\n",
      "p-value: 0.0017115519300770466\n"
     ]
    }
   ],
   "source": [
    "t_statistic,p_value = stats.ttest_ind(before,after)\n",
    "print(\"t-statistic:\",t_statistic)\n",
    "print(\"p-value:\",p_value/2)"
   ]
  },
  {
   "cell_type": "code",
   "execution_count": 25,
   "id": "39859950",
   "metadata": {},
   "outputs": [
    {
     "name": "stdout",
     "output_type": "stream",
     "text": [
      "Reject the null hypothesis.The mean inflation rate of US after the ukraine war is increased\n"
     ]
    }
   ],
   "source": [
    "alpha = 0.05\n",
    "\n",
    "if p_value < alpha:\n",
    "    print(\"Reject the null hypothesis.The mean inflation rate of US after the ukraine war is increased\")\n",
    "else:\n",
    "    print(\"Fail to reject the null hypothesis\")"
   ]
  },
  {
   "cell_type": "code",
   "execution_count": null,
   "id": "8c521c48",
   "metadata": {},
   "outputs": [],
   "source": []
  }
 ],
 "metadata": {
  "kernelspec": {
   "display_name": "Python 3 (ipykernel)",
   "language": "python",
   "name": "python3"
  },
  "language_info": {
   "codemirror_mode": {
    "name": "ipython",
    "version": 3
   },
   "file_extension": ".py",
   "mimetype": "text/x-python",
   "name": "python",
   "nbconvert_exporter": "python",
   "pygments_lexer": "ipython3",
   "version": "3.11.5"
  }
 },
 "nbformat": 4,
 "nbformat_minor": 5
}
